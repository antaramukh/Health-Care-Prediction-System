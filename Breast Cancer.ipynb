{
 "cells": [
  {
   "cell_type": "markdown",
   "id": "9b4185ab",
   "metadata": {},
   "source": [
    "# Breast Cancer Predictor"
   ]
  },
  {
   "cell_type": "code",
   "execution_count": 111,
   "id": "f0db3595",
   "metadata": {},
   "outputs": [],
   "source": [
    "import pandas as pd\n",
    "import numpy as np \n",
    "import matplotlib.pyplot as plt\n",
    "import seaborn as sns\n",
    "import statsmodels.api as sm\n",
    "# Modeling Libraries\n",
    "from sklearn.metrics import confusion_matrix, accuracy_score\n",
    "from sklearn.ensemble import RandomForestClassifier, AdaBoostClassifier, GradientBoostingClassifier\n",
    "from sklearn.linear_model import LogisticRegression\n",
    "from sklearn.neighbors import KNeighborsClassifier\n",
    "from sklearn.tree import DecisionTreeClassifier\n",
    "from sklearn.svm import SVC\n",
    "from xgboost import XGBClassifier\n",
    "from sklearn.naive_bayes import GaussianNB\n",
    "import lightgbm as lgb\n",
    "\n",
    "from sklearn.model_selection import GridSearchCV, cross_val_score, StratifiedKFold, learning_curve, train_test_split\n",
    "\n",
    "\n",
    "import warnings\n",
    "warnings.filterwarnings('ignore')"
   ]
  },
  {
   "cell_type": "code",
   "execution_count": 112,
   "id": "9191d1c8",
   "metadata": {},
   "outputs": [
    {
     "data": {
      "text/html": [
       "<div>\n",
       "<style scoped>\n",
       "    .dataframe tbody tr th:only-of-type {\n",
       "        vertical-align: middle;\n",
       "    }\n",
       "\n",
       "    .dataframe tbody tr th {\n",
       "        vertical-align: top;\n",
       "    }\n",
       "\n",
       "    .dataframe thead th {\n",
       "        text-align: right;\n",
       "    }\n",
       "</style>\n",
       "<table border=\"1\" class=\"dataframe\">\n",
       "  <thead>\n",
       "    <tr style=\"text-align: right;\">\n",
       "      <th></th>\n",
       "      <th>id</th>\n",
       "      <th>diagnosis</th>\n",
       "      <th>radius_mean</th>\n",
       "      <th>texture_mean</th>\n",
       "      <th>perimeter_mean</th>\n",
       "      <th>area_mean</th>\n",
       "      <th>smoothness_mean</th>\n",
       "      <th>compactness_mean</th>\n",
       "      <th>concavity_mean</th>\n",
       "      <th>concave points_mean</th>\n",
       "      <th>...</th>\n",
       "      <th>texture_worst</th>\n",
       "      <th>perimeter_worst</th>\n",
       "      <th>area_worst</th>\n",
       "      <th>smoothness_worst</th>\n",
       "      <th>compactness_worst</th>\n",
       "      <th>concavity_worst</th>\n",
       "      <th>concave points_worst</th>\n",
       "      <th>symmetry_worst</th>\n",
       "      <th>fractal_dimension_worst</th>\n",
       "      <th>Unnamed: 32</th>\n",
       "    </tr>\n",
       "  </thead>\n",
       "  <tbody>\n",
       "    <tr>\n",
       "      <th>0</th>\n",
       "      <td>842302</td>\n",
       "      <td>M</td>\n",
       "      <td>17.99</td>\n",
       "      <td>10.38</td>\n",
       "      <td>122.80</td>\n",
       "      <td>1001.0</td>\n",
       "      <td>0.11840</td>\n",
       "      <td>0.27760</td>\n",
       "      <td>0.30010</td>\n",
       "      <td>0.14710</td>\n",
       "      <td>...</td>\n",
       "      <td>17.33</td>\n",
       "      <td>184.60</td>\n",
       "      <td>2019.0</td>\n",
       "      <td>0.16220</td>\n",
       "      <td>0.66560</td>\n",
       "      <td>0.7119</td>\n",
       "      <td>0.2654</td>\n",
       "      <td>0.4601</td>\n",
       "      <td>0.11890</td>\n",
       "      <td>NaN</td>\n",
       "    </tr>\n",
       "    <tr>\n",
       "      <th>1</th>\n",
       "      <td>842517</td>\n",
       "      <td>M</td>\n",
       "      <td>20.57</td>\n",
       "      <td>17.77</td>\n",
       "      <td>132.90</td>\n",
       "      <td>1326.0</td>\n",
       "      <td>0.08474</td>\n",
       "      <td>0.07864</td>\n",
       "      <td>0.08690</td>\n",
       "      <td>0.07017</td>\n",
       "      <td>...</td>\n",
       "      <td>23.41</td>\n",
       "      <td>158.80</td>\n",
       "      <td>1956.0</td>\n",
       "      <td>0.12380</td>\n",
       "      <td>0.18660</td>\n",
       "      <td>0.2416</td>\n",
       "      <td>0.1860</td>\n",
       "      <td>0.2750</td>\n",
       "      <td>0.08902</td>\n",
       "      <td>NaN</td>\n",
       "    </tr>\n",
       "    <tr>\n",
       "      <th>2</th>\n",
       "      <td>84300903</td>\n",
       "      <td>M</td>\n",
       "      <td>19.69</td>\n",
       "      <td>21.25</td>\n",
       "      <td>130.00</td>\n",
       "      <td>1203.0</td>\n",
       "      <td>0.10960</td>\n",
       "      <td>0.15990</td>\n",
       "      <td>0.19740</td>\n",
       "      <td>0.12790</td>\n",
       "      <td>...</td>\n",
       "      <td>25.53</td>\n",
       "      <td>152.50</td>\n",
       "      <td>1709.0</td>\n",
       "      <td>0.14440</td>\n",
       "      <td>0.42450</td>\n",
       "      <td>0.4504</td>\n",
       "      <td>0.2430</td>\n",
       "      <td>0.3613</td>\n",
       "      <td>0.08758</td>\n",
       "      <td>NaN</td>\n",
       "    </tr>\n",
       "    <tr>\n",
       "      <th>3</th>\n",
       "      <td>84348301</td>\n",
       "      <td>M</td>\n",
       "      <td>11.42</td>\n",
       "      <td>20.38</td>\n",
       "      <td>77.58</td>\n",
       "      <td>386.1</td>\n",
       "      <td>0.14250</td>\n",
       "      <td>0.28390</td>\n",
       "      <td>0.24140</td>\n",
       "      <td>0.10520</td>\n",
       "      <td>...</td>\n",
       "      <td>26.50</td>\n",
       "      <td>98.87</td>\n",
       "      <td>567.7</td>\n",
       "      <td>0.20980</td>\n",
       "      <td>0.86630</td>\n",
       "      <td>0.6869</td>\n",
       "      <td>0.2575</td>\n",
       "      <td>0.6638</td>\n",
       "      <td>0.17300</td>\n",
       "      <td>NaN</td>\n",
       "    </tr>\n",
       "    <tr>\n",
       "      <th>4</th>\n",
       "      <td>84358402</td>\n",
       "      <td>M</td>\n",
       "      <td>20.29</td>\n",
       "      <td>14.34</td>\n",
       "      <td>135.10</td>\n",
       "      <td>1297.0</td>\n",
       "      <td>0.10030</td>\n",
       "      <td>0.13280</td>\n",
       "      <td>0.19800</td>\n",
       "      <td>0.10430</td>\n",
       "      <td>...</td>\n",
       "      <td>16.67</td>\n",
       "      <td>152.20</td>\n",
       "      <td>1575.0</td>\n",
       "      <td>0.13740</td>\n",
       "      <td>0.20500</td>\n",
       "      <td>0.4000</td>\n",
       "      <td>0.1625</td>\n",
       "      <td>0.2364</td>\n",
       "      <td>0.07678</td>\n",
       "      <td>NaN</td>\n",
       "    </tr>\n",
       "    <tr>\n",
       "      <th>...</th>\n",
       "      <td>...</td>\n",
       "      <td>...</td>\n",
       "      <td>...</td>\n",
       "      <td>...</td>\n",
       "      <td>...</td>\n",
       "      <td>...</td>\n",
       "      <td>...</td>\n",
       "      <td>...</td>\n",
       "      <td>...</td>\n",
       "      <td>...</td>\n",
       "      <td>...</td>\n",
       "      <td>...</td>\n",
       "      <td>...</td>\n",
       "      <td>...</td>\n",
       "      <td>...</td>\n",
       "      <td>...</td>\n",
       "      <td>...</td>\n",
       "      <td>...</td>\n",
       "      <td>...</td>\n",
       "      <td>...</td>\n",
       "      <td>...</td>\n",
       "    </tr>\n",
       "    <tr>\n",
       "      <th>564</th>\n",
       "      <td>926424</td>\n",
       "      <td>M</td>\n",
       "      <td>21.56</td>\n",
       "      <td>22.39</td>\n",
       "      <td>142.00</td>\n",
       "      <td>1479.0</td>\n",
       "      <td>0.11100</td>\n",
       "      <td>0.11590</td>\n",
       "      <td>0.24390</td>\n",
       "      <td>0.13890</td>\n",
       "      <td>...</td>\n",
       "      <td>26.40</td>\n",
       "      <td>166.10</td>\n",
       "      <td>2027.0</td>\n",
       "      <td>0.14100</td>\n",
       "      <td>0.21130</td>\n",
       "      <td>0.4107</td>\n",
       "      <td>0.2216</td>\n",
       "      <td>0.2060</td>\n",
       "      <td>0.07115</td>\n",
       "      <td>NaN</td>\n",
       "    </tr>\n",
       "    <tr>\n",
       "      <th>565</th>\n",
       "      <td>926682</td>\n",
       "      <td>M</td>\n",
       "      <td>20.13</td>\n",
       "      <td>28.25</td>\n",
       "      <td>131.20</td>\n",
       "      <td>1261.0</td>\n",
       "      <td>0.09780</td>\n",
       "      <td>0.10340</td>\n",
       "      <td>0.14400</td>\n",
       "      <td>0.09791</td>\n",
       "      <td>...</td>\n",
       "      <td>38.25</td>\n",
       "      <td>155.00</td>\n",
       "      <td>1731.0</td>\n",
       "      <td>0.11660</td>\n",
       "      <td>0.19220</td>\n",
       "      <td>0.3215</td>\n",
       "      <td>0.1628</td>\n",
       "      <td>0.2572</td>\n",
       "      <td>0.06637</td>\n",
       "      <td>NaN</td>\n",
       "    </tr>\n",
       "    <tr>\n",
       "      <th>566</th>\n",
       "      <td>926954</td>\n",
       "      <td>M</td>\n",
       "      <td>16.60</td>\n",
       "      <td>28.08</td>\n",
       "      <td>108.30</td>\n",
       "      <td>858.1</td>\n",
       "      <td>0.08455</td>\n",
       "      <td>0.10230</td>\n",
       "      <td>0.09251</td>\n",
       "      <td>0.05302</td>\n",
       "      <td>...</td>\n",
       "      <td>34.12</td>\n",
       "      <td>126.70</td>\n",
       "      <td>1124.0</td>\n",
       "      <td>0.11390</td>\n",
       "      <td>0.30940</td>\n",
       "      <td>0.3403</td>\n",
       "      <td>0.1418</td>\n",
       "      <td>0.2218</td>\n",
       "      <td>0.07820</td>\n",
       "      <td>NaN</td>\n",
       "    </tr>\n",
       "    <tr>\n",
       "      <th>567</th>\n",
       "      <td>927241</td>\n",
       "      <td>M</td>\n",
       "      <td>20.60</td>\n",
       "      <td>29.33</td>\n",
       "      <td>140.10</td>\n",
       "      <td>1265.0</td>\n",
       "      <td>0.11780</td>\n",
       "      <td>0.27700</td>\n",
       "      <td>0.35140</td>\n",
       "      <td>0.15200</td>\n",
       "      <td>...</td>\n",
       "      <td>39.42</td>\n",
       "      <td>184.60</td>\n",
       "      <td>1821.0</td>\n",
       "      <td>0.16500</td>\n",
       "      <td>0.86810</td>\n",
       "      <td>0.9387</td>\n",
       "      <td>0.2650</td>\n",
       "      <td>0.4087</td>\n",
       "      <td>0.12400</td>\n",
       "      <td>NaN</td>\n",
       "    </tr>\n",
       "    <tr>\n",
       "      <th>568</th>\n",
       "      <td>92751</td>\n",
       "      <td>B</td>\n",
       "      <td>7.76</td>\n",
       "      <td>24.54</td>\n",
       "      <td>47.92</td>\n",
       "      <td>181.0</td>\n",
       "      <td>0.05263</td>\n",
       "      <td>0.04362</td>\n",
       "      <td>0.00000</td>\n",
       "      <td>0.00000</td>\n",
       "      <td>...</td>\n",
       "      <td>30.37</td>\n",
       "      <td>59.16</td>\n",
       "      <td>268.6</td>\n",
       "      <td>0.08996</td>\n",
       "      <td>0.06444</td>\n",
       "      <td>0.0000</td>\n",
       "      <td>0.0000</td>\n",
       "      <td>0.2871</td>\n",
       "      <td>0.07039</td>\n",
       "      <td>NaN</td>\n",
       "    </tr>\n",
       "  </tbody>\n",
       "</table>\n",
       "<p>569 rows × 33 columns</p>\n",
       "</div>"
      ],
      "text/plain": [
       "           id diagnosis  radius_mean  texture_mean  perimeter_mean  area_mean  \\\n",
       "0      842302         M        17.99         10.38          122.80     1001.0   \n",
       "1      842517         M        20.57         17.77          132.90     1326.0   \n",
       "2    84300903         M        19.69         21.25          130.00     1203.0   \n",
       "3    84348301         M        11.42         20.38           77.58      386.1   \n",
       "4    84358402         M        20.29         14.34          135.10     1297.0   \n",
       "..        ...       ...          ...           ...             ...        ...   \n",
       "564    926424         M        21.56         22.39          142.00     1479.0   \n",
       "565    926682         M        20.13         28.25          131.20     1261.0   \n",
       "566    926954         M        16.60         28.08          108.30      858.1   \n",
       "567    927241         M        20.60         29.33          140.10     1265.0   \n",
       "568     92751         B         7.76         24.54           47.92      181.0   \n",
       "\n",
       "     smoothness_mean  compactness_mean  concavity_mean  concave points_mean  \\\n",
       "0            0.11840           0.27760         0.30010              0.14710   \n",
       "1            0.08474           0.07864         0.08690              0.07017   \n",
       "2            0.10960           0.15990         0.19740              0.12790   \n",
       "3            0.14250           0.28390         0.24140              0.10520   \n",
       "4            0.10030           0.13280         0.19800              0.10430   \n",
       "..               ...               ...             ...                  ...   \n",
       "564          0.11100           0.11590         0.24390              0.13890   \n",
       "565          0.09780           0.10340         0.14400              0.09791   \n",
       "566          0.08455           0.10230         0.09251              0.05302   \n",
       "567          0.11780           0.27700         0.35140              0.15200   \n",
       "568          0.05263           0.04362         0.00000              0.00000   \n",
       "\n",
       "     ...  texture_worst  perimeter_worst  area_worst  smoothness_worst  \\\n",
       "0    ...          17.33           184.60      2019.0           0.16220   \n",
       "1    ...          23.41           158.80      1956.0           0.12380   \n",
       "2    ...          25.53           152.50      1709.0           0.14440   \n",
       "3    ...          26.50            98.87       567.7           0.20980   \n",
       "4    ...          16.67           152.20      1575.0           0.13740   \n",
       "..   ...            ...              ...         ...               ...   \n",
       "564  ...          26.40           166.10      2027.0           0.14100   \n",
       "565  ...          38.25           155.00      1731.0           0.11660   \n",
       "566  ...          34.12           126.70      1124.0           0.11390   \n",
       "567  ...          39.42           184.60      1821.0           0.16500   \n",
       "568  ...          30.37            59.16       268.6           0.08996   \n",
       "\n",
       "     compactness_worst  concavity_worst  concave points_worst  symmetry_worst  \\\n",
       "0              0.66560           0.7119                0.2654          0.4601   \n",
       "1              0.18660           0.2416                0.1860          0.2750   \n",
       "2              0.42450           0.4504                0.2430          0.3613   \n",
       "3              0.86630           0.6869                0.2575          0.6638   \n",
       "4              0.20500           0.4000                0.1625          0.2364   \n",
       "..                 ...              ...                   ...             ...   \n",
       "564            0.21130           0.4107                0.2216          0.2060   \n",
       "565            0.19220           0.3215                0.1628          0.2572   \n",
       "566            0.30940           0.3403                0.1418          0.2218   \n",
       "567            0.86810           0.9387                0.2650          0.4087   \n",
       "568            0.06444           0.0000                0.0000          0.2871   \n",
       "\n",
       "     fractal_dimension_worst  Unnamed: 32  \n",
       "0                    0.11890          NaN  \n",
       "1                    0.08902          NaN  \n",
       "2                    0.08758          NaN  \n",
       "3                    0.17300          NaN  \n",
       "4                    0.07678          NaN  \n",
       "..                       ...          ...  \n",
       "564                  0.07115          NaN  \n",
       "565                  0.06637          NaN  \n",
       "566                  0.07820          NaN  \n",
       "567                  0.12400          NaN  \n",
       "568                  0.07039          NaN  \n",
       "\n",
       "[569 rows x 33 columns]"
      ]
     },
     "execution_count": 112,
     "metadata": {},
     "output_type": "execute_result"
    }
   ],
   "source": [
    "df=pd.read_csv('data.csv')\n",
    "df"
   ]
  },
  {
   "cell_type": "code",
   "execution_count": 113,
   "id": "9d5d23f3",
   "metadata": {
    "scrolled": false
   },
   "outputs": [
    {
     "name": "stdout",
     "output_type": "stream",
     "text": [
      "[8610908 'B' 12.86 18.0 83.19 506.3 0.09934 0.09546 0.03889 0.02315 0.1718\n",
      " 0.05997 0.2655 1.095 1.778 20.35 0.005293 0.01661 0.02071 0.008179\n",
      " 0.01748 0.002848 14.24 24.82 91.88 622.1 0.1289 0.2141 0.1731 0.07926\n",
      " 0.2779 0.07918 nan]\n"
     ]
    }
   ],
   "source": [
    "print(df[df['diagnosis']=='B'].iloc[23].values)"
   ]
  },
  {
   "cell_type": "code",
   "execution_count": 114,
   "id": "a50ab2f9",
   "metadata": {},
   "outputs": [
    {
     "data": {
      "text/plain": [
       "id                           842302\n",
       "diagnosis                         M\n",
       "radius_mean                   17.99\n",
       "texture_mean                  10.38\n",
       "perimeter_mean                122.8\n",
       "area_mean                    1001.0\n",
       "smoothness_mean              0.1184\n",
       "compactness_mean             0.2776\n",
       "concavity_mean               0.3001\n",
       "concave points_mean          0.1471\n",
       "symmetry_mean                0.2419\n",
       "fractal_dimension_mean      0.07871\n",
       "radius_se                     1.095\n",
       "texture_se                   0.9053\n",
       "perimeter_se                  8.589\n",
       "area_se                       153.4\n",
       "smoothness_se              0.006399\n",
       "compactness_se              0.04904\n",
       "concavity_se                0.05373\n",
       "concave points_se           0.01587\n",
       "symmetry_se                 0.03003\n",
       "fractal_dimension_se       0.006193\n",
       "radius_worst                  25.38\n",
       "texture_worst                 17.33\n",
       "perimeter_worst               184.6\n",
       "area_worst                   2019.0\n",
       "smoothness_worst             0.1622\n",
       "compactness_worst            0.6656\n",
       "concavity_worst              0.7119\n",
       "concave points_worst         0.2654\n",
       "symmetry_worst               0.4601\n",
       "fractal_dimension_worst      0.1189\n",
       "Unnamed: 32                     NaN\n",
       "Name: 0, dtype: object"
      ]
     },
     "execution_count": 114,
     "metadata": {},
     "output_type": "execute_result"
    }
   ],
   "source": [
    "df.iloc[0]"
   ]
  },
  {
   "cell_type": "code",
   "execution_count": 115,
   "id": "1b9cb9f8",
   "metadata": {},
   "outputs": [],
   "source": [
    "var=df['diagnosis']\n",
    "df = df.drop(['id', 'Unnamed: 32','diagnosis'], axis=1)\n",
    "df['diagnosis']=var\n",
    "x = df.drop(['diagnosis'], axis=1)\n",
    "y = df['diagnosis']"
   ]
  },
  {
   "cell_type": "code",
   "execution_count": 116,
   "id": "8b1a9416",
   "metadata": {},
   "outputs": [
    {
     "data": {
      "text/plain": [
       "radius_mean                0\n",
       "texture_mean               0\n",
       "perimeter_mean             0\n",
       "area_mean                  0\n",
       "smoothness_mean            0\n",
       "compactness_mean           0\n",
       "concavity_mean             0\n",
       "concave points_mean        0\n",
       "symmetry_mean              0\n",
       "fractal_dimension_mean     0\n",
       "radius_se                  0\n",
       "texture_se                 0\n",
       "perimeter_se               0\n",
       "area_se                    0\n",
       "smoothness_se              0\n",
       "compactness_se             0\n",
       "concavity_se               0\n",
       "concave points_se          0\n",
       "symmetry_se                0\n",
       "fractal_dimension_se       0\n",
       "radius_worst               0\n",
       "texture_worst              0\n",
       "perimeter_worst            0\n",
       "area_worst                 0\n",
       "smoothness_worst           0\n",
       "compactness_worst          0\n",
       "concavity_worst            0\n",
       "concave points_worst       0\n",
       "symmetry_worst             0\n",
       "fractal_dimension_worst    0\n",
       "diagnosis                  0\n",
       "dtype: int64"
      ]
     },
     "execution_count": 116,
     "metadata": {},
     "output_type": "execute_result"
    }
   ],
   "source": [
    "df.isnull().sum()"
   ]
  },
  {
   "cell_type": "code",
   "execution_count": 117,
   "id": "fe1e88ae",
   "metadata": {},
   "outputs": [
    {
     "name": "stdout",
     "output_type": "stream",
     "text": [
      "B    357\n",
      "M    212\n",
      "Name: diagnosis, dtype: int64\n"
     ]
    }
   ],
   "source": [
    "print(df['diagnosis'].value_counts())"
   ]
  },
  {
   "cell_type": "code",
   "execution_count": 118,
   "id": "684d1ea6",
   "metadata": {},
   "outputs": [],
   "source": [
    "df['diagnosis'] = df['diagnosis'].apply({'M':0,'B':1}.get) "
   ]
  },
  {
   "cell_type": "code",
   "execution_count": 119,
   "id": "f38635b6",
   "metadata": {},
   "outputs": [
    {
     "name": "stdout",
     "output_type": "stream",
     "text": [
      "1    357\n",
      "0    212\n",
      "Name: diagnosis, dtype: int64\n"
     ]
    }
   ],
   "source": [
    "print(df['diagnosis'].value_counts())"
   ]
  },
  {
   "cell_type": "code",
   "execution_count": 120,
   "id": "4fb1f7ae",
   "metadata": {},
   "outputs": [
    {
     "data": {
      "text/html": [
       "<div>\n",
       "<style scoped>\n",
       "    .dataframe tbody tr th:only-of-type {\n",
       "        vertical-align: middle;\n",
       "    }\n",
       "\n",
       "    .dataframe tbody tr th {\n",
       "        vertical-align: top;\n",
       "    }\n",
       "\n",
       "    .dataframe thead th {\n",
       "        text-align: right;\n",
       "    }\n",
       "</style>\n",
       "<table border=\"1\" class=\"dataframe\">\n",
       "  <thead>\n",
       "    <tr style=\"text-align: right;\">\n",
       "      <th></th>\n",
       "      <th>radius_mean</th>\n",
       "      <th>texture_mean</th>\n",
       "      <th>perimeter_mean</th>\n",
       "      <th>area_mean</th>\n",
       "      <th>smoothness_mean</th>\n",
       "      <th>compactness_mean</th>\n",
       "      <th>concavity_mean</th>\n",
       "      <th>concave points_mean</th>\n",
       "      <th>symmetry_mean</th>\n",
       "      <th>fractal_dimension_mean</th>\n",
       "      <th>...</th>\n",
       "      <th>texture_worst</th>\n",
       "      <th>perimeter_worst</th>\n",
       "      <th>area_worst</th>\n",
       "      <th>smoothness_worst</th>\n",
       "      <th>compactness_worst</th>\n",
       "      <th>concavity_worst</th>\n",
       "      <th>concave points_worst</th>\n",
       "      <th>symmetry_worst</th>\n",
       "      <th>fractal_dimension_worst</th>\n",
       "      <th>diagnosis</th>\n",
       "    </tr>\n",
       "  </thead>\n",
       "  <tbody>\n",
       "    <tr>\n",
       "      <th>count</th>\n",
       "      <td>569.000000</td>\n",
       "      <td>569.000000</td>\n",
       "      <td>569.000000</td>\n",
       "      <td>569.000000</td>\n",
       "      <td>569.000000</td>\n",
       "      <td>569.000000</td>\n",
       "      <td>569.000000</td>\n",
       "      <td>569.000000</td>\n",
       "      <td>569.000000</td>\n",
       "      <td>569.000000</td>\n",
       "      <td>...</td>\n",
       "      <td>569.000000</td>\n",
       "      <td>569.000000</td>\n",
       "      <td>569.000000</td>\n",
       "      <td>569.000000</td>\n",
       "      <td>569.000000</td>\n",
       "      <td>569.000000</td>\n",
       "      <td>569.000000</td>\n",
       "      <td>569.000000</td>\n",
       "      <td>569.000000</td>\n",
       "      <td>569.000000</td>\n",
       "    </tr>\n",
       "    <tr>\n",
       "      <th>mean</th>\n",
       "      <td>14.127292</td>\n",
       "      <td>19.289649</td>\n",
       "      <td>91.969033</td>\n",
       "      <td>654.889104</td>\n",
       "      <td>0.096360</td>\n",
       "      <td>0.104341</td>\n",
       "      <td>0.088799</td>\n",
       "      <td>0.048919</td>\n",
       "      <td>0.181162</td>\n",
       "      <td>0.062798</td>\n",
       "      <td>...</td>\n",
       "      <td>25.677223</td>\n",
       "      <td>107.261213</td>\n",
       "      <td>880.583128</td>\n",
       "      <td>0.132369</td>\n",
       "      <td>0.254265</td>\n",
       "      <td>0.272188</td>\n",
       "      <td>0.114606</td>\n",
       "      <td>0.290076</td>\n",
       "      <td>0.083946</td>\n",
       "      <td>0.627417</td>\n",
       "    </tr>\n",
       "    <tr>\n",
       "      <th>std</th>\n",
       "      <td>3.524049</td>\n",
       "      <td>4.301036</td>\n",
       "      <td>24.298981</td>\n",
       "      <td>351.914129</td>\n",
       "      <td>0.014064</td>\n",
       "      <td>0.052813</td>\n",
       "      <td>0.079720</td>\n",
       "      <td>0.038803</td>\n",
       "      <td>0.027414</td>\n",
       "      <td>0.007060</td>\n",
       "      <td>...</td>\n",
       "      <td>6.146258</td>\n",
       "      <td>33.602542</td>\n",
       "      <td>569.356993</td>\n",
       "      <td>0.022832</td>\n",
       "      <td>0.157336</td>\n",
       "      <td>0.208624</td>\n",
       "      <td>0.065732</td>\n",
       "      <td>0.061867</td>\n",
       "      <td>0.018061</td>\n",
       "      <td>0.483918</td>\n",
       "    </tr>\n",
       "    <tr>\n",
       "      <th>min</th>\n",
       "      <td>6.981000</td>\n",
       "      <td>9.710000</td>\n",
       "      <td>43.790000</td>\n",
       "      <td>143.500000</td>\n",
       "      <td>0.052630</td>\n",
       "      <td>0.019380</td>\n",
       "      <td>0.000000</td>\n",
       "      <td>0.000000</td>\n",
       "      <td>0.106000</td>\n",
       "      <td>0.049960</td>\n",
       "      <td>...</td>\n",
       "      <td>12.020000</td>\n",
       "      <td>50.410000</td>\n",
       "      <td>185.200000</td>\n",
       "      <td>0.071170</td>\n",
       "      <td>0.027290</td>\n",
       "      <td>0.000000</td>\n",
       "      <td>0.000000</td>\n",
       "      <td>0.156500</td>\n",
       "      <td>0.055040</td>\n",
       "      <td>0.000000</td>\n",
       "    </tr>\n",
       "    <tr>\n",
       "      <th>25%</th>\n",
       "      <td>11.700000</td>\n",
       "      <td>16.170000</td>\n",
       "      <td>75.170000</td>\n",
       "      <td>420.300000</td>\n",
       "      <td>0.086370</td>\n",
       "      <td>0.064920</td>\n",
       "      <td>0.029560</td>\n",
       "      <td>0.020310</td>\n",
       "      <td>0.161900</td>\n",
       "      <td>0.057700</td>\n",
       "      <td>...</td>\n",
       "      <td>21.080000</td>\n",
       "      <td>84.110000</td>\n",
       "      <td>515.300000</td>\n",
       "      <td>0.116600</td>\n",
       "      <td>0.147200</td>\n",
       "      <td>0.114500</td>\n",
       "      <td>0.064930</td>\n",
       "      <td>0.250400</td>\n",
       "      <td>0.071460</td>\n",
       "      <td>0.000000</td>\n",
       "    </tr>\n",
       "    <tr>\n",
       "      <th>50%</th>\n",
       "      <td>13.370000</td>\n",
       "      <td>18.840000</td>\n",
       "      <td>86.240000</td>\n",
       "      <td>551.100000</td>\n",
       "      <td>0.095870</td>\n",
       "      <td>0.092630</td>\n",
       "      <td>0.061540</td>\n",
       "      <td>0.033500</td>\n",
       "      <td>0.179200</td>\n",
       "      <td>0.061540</td>\n",
       "      <td>...</td>\n",
       "      <td>25.410000</td>\n",
       "      <td>97.660000</td>\n",
       "      <td>686.500000</td>\n",
       "      <td>0.131300</td>\n",
       "      <td>0.211900</td>\n",
       "      <td>0.226700</td>\n",
       "      <td>0.099930</td>\n",
       "      <td>0.282200</td>\n",
       "      <td>0.080040</td>\n",
       "      <td>1.000000</td>\n",
       "    </tr>\n",
       "    <tr>\n",
       "      <th>75%</th>\n",
       "      <td>15.780000</td>\n",
       "      <td>21.800000</td>\n",
       "      <td>104.100000</td>\n",
       "      <td>782.700000</td>\n",
       "      <td>0.105300</td>\n",
       "      <td>0.130400</td>\n",
       "      <td>0.130700</td>\n",
       "      <td>0.074000</td>\n",
       "      <td>0.195700</td>\n",
       "      <td>0.066120</td>\n",
       "      <td>...</td>\n",
       "      <td>29.720000</td>\n",
       "      <td>125.400000</td>\n",
       "      <td>1084.000000</td>\n",
       "      <td>0.146000</td>\n",
       "      <td>0.339100</td>\n",
       "      <td>0.382900</td>\n",
       "      <td>0.161400</td>\n",
       "      <td>0.317900</td>\n",
       "      <td>0.092080</td>\n",
       "      <td>1.000000</td>\n",
       "    </tr>\n",
       "    <tr>\n",
       "      <th>max</th>\n",
       "      <td>28.110000</td>\n",
       "      <td>39.280000</td>\n",
       "      <td>188.500000</td>\n",
       "      <td>2501.000000</td>\n",
       "      <td>0.163400</td>\n",
       "      <td>0.345400</td>\n",
       "      <td>0.426800</td>\n",
       "      <td>0.201200</td>\n",
       "      <td>0.304000</td>\n",
       "      <td>0.097440</td>\n",
       "      <td>...</td>\n",
       "      <td>49.540000</td>\n",
       "      <td>251.200000</td>\n",
       "      <td>4254.000000</td>\n",
       "      <td>0.222600</td>\n",
       "      <td>1.058000</td>\n",
       "      <td>1.252000</td>\n",
       "      <td>0.291000</td>\n",
       "      <td>0.663800</td>\n",
       "      <td>0.207500</td>\n",
       "      <td>1.000000</td>\n",
       "    </tr>\n",
       "  </tbody>\n",
       "</table>\n",
       "<p>8 rows × 31 columns</p>\n",
       "</div>"
      ],
      "text/plain": [
       "       radius_mean  texture_mean  perimeter_mean    area_mean  \\\n",
       "count   569.000000    569.000000      569.000000   569.000000   \n",
       "mean     14.127292     19.289649       91.969033   654.889104   \n",
       "std       3.524049      4.301036       24.298981   351.914129   \n",
       "min       6.981000      9.710000       43.790000   143.500000   \n",
       "25%      11.700000     16.170000       75.170000   420.300000   \n",
       "50%      13.370000     18.840000       86.240000   551.100000   \n",
       "75%      15.780000     21.800000      104.100000   782.700000   \n",
       "max      28.110000     39.280000      188.500000  2501.000000   \n",
       "\n",
       "       smoothness_mean  compactness_mean  concavity_mean  concave points_mean  \\\n",
       "count       569.000000        569.000000      569.000000           569.000000   \n",
       "mean          0.096360          0.104341        0.088799             0.048919   \n",
       "std           0.014064          0.052813        0.079720             0.038803   \n",
       "min           0.052630          0.019380        0.000000             0.000000   \n",
       "25%           0.086370          0.064920        0.029560             0.020310   \n",
       "50%           0.095870          0.092630        0.061540             0.033500   \n",
       "75%           0.105300          0.130400        0.130700             0.074000   \n",
       "max           0.163400          0.345400        0.426800             0.201200   \n",
       "\n",
       "       symmetry_mean  fractal_dimension_mean  ...  texture_worst  \\\n",
       "count     569.000000              569.000000  ...     569.000000   \n",
       "mean        0.181162                0.062798  ...      25.677223   \n",
       "std         0.027414                0.007060  ...       6.146258   \n",
       "min         0.106000                0.049960  ...      12.020000   \n",
       "25%         0.161900                0.057700  ...      21.080000   \n",
       "50%         0.179200                0.061540  ...      25.410000   \n",
       "75%         0.195700                0.066120  ...      29.720000   \n",
       "max         0.304000                0.097440  ...      49.540000   \n",
       "\n",
       "       perimeter_worst   area_worst  smoothness_worst  compactness_worst  \\\n",
       "count       569.000000   569.000000        569.000000         569.000000   \n",
       "mean        107.261213   880.583128          0.132369           0.254265   \n",
       "std          33.602542   569.356993          0.022832           0.157336   \n",
       "min          50.410000   185.200000          0.071170           0.027290   \n",
       "25%          84.110000   515.300000          0.116600           0.147200   \n",
       "50%          97.660000   686.500000          0.131300           0.211900   \n",
       "75%         125.400000  1084.000000          0.146000           0.339100   \n",
       "max         251.200000  4254.000000          0.222600           1.058000   \n",
       "\n",
       "       concavity_worst  concave points_worst  symmetry_worst  \\\n",
       "count       569.000000            569.000000      569.000000   \n",
       "mean          0.272188              0.114606        0.290076   \n",
       "std           0.208624              0.065732        0.061867   \n",
       "min           0.000000              0.000000        0.156500   \n",
       "25%           0.114500              0.064930        0.250400   \n",
       "50%           0.226700              0.099930        0.282200   \n",
       "75%           0.382900              0.161400        0.317900   \n",
       "max           1.252000              0.291000        0.663800   \n",
       "\n",
       "       fractal_dimension_worst   diagnosis  \n",
       "count               569.000000  569.000000  \n",
       "mean                  0.083946    0.627417  \n",
       "std                   0.018061    0.483918  \n",
       "min                   0.055040    0.000000  \n",
       "25%                   0.071460    0.000000  \n",
       "50%                   0.080040    1.000000  \n",
       "75%                   0.092080    1.000000  \n",
       "max                   0.207500    1.000000  \n",
       "\n",
       "[8 rows x 31 columns]"
      ]
     },
     "execution_count": 120,
     "metadata": {},
     "output_type": "execute_result"
    }
   ],
   "source": [
    "df.describe()"
   ]
  },
  {
   "cell_type": "code",
   "execution_count": 121,
   "id": "1380176b",
   "metadata": {},
   "outputs": [
    {
     "data": {
      "text/plain": [
       "['radius_mean',\n",
       " 'texture_mean',\n",
       " 'perimeter_mean',\n",
       " 'area_mean',\n",
       " 'smoothness_mean',\n",
       " 'compactness_mean',\n",
       " 'concavity_mean',\n",
       " 'concave points_mean',\n",
       " 'symmetry_mean',\n",
       " 'fractal_dimension_mean',\n",
       " 'radius_se',\n",
       " 'texture_se',\n",
       " 'perimeter_se',\n",
       " 'area_se',\n",
       " 'smoothness_se',\n",
       " 'compactness_se',\n",
       " 'concavity_se',\n",
       " 'concave points_se',\n",
       " 'symmetry_se',\n",
       " 'fractal_dimension_se',\n",
       " 'radius_worst',\n",
       " 'texture_worst',\n",
       " 'perimeter_worst',\n",
       " 'area_worst',\n",
       " 'smoothness_worst',\n",
       " 'compactness_worst',\n",
       " 'concavity_worst',\n",
       " 'concave points_worst',\n",
       " 'symmetry_worst',\n",
       " 'fractal_dimension_worst']"
      ]
     },
     "execution_count": 121,
     "metadata": {},
     "output_type": "execute_result"
    }
   ],
   "source": [
    "list(df.columns)[:-1]"
   ]
  },
  {
   "cell_type": "code",
   "execution_count": 122,
   "id": "8da8d0ff",
   "metadata": {},
   "outputs": [],
   "source": [
    "for col in df.columns:\n",
    "    if col in list(df.columns)[:-1]:\n",
    "        upper_limit = df[col].mean() + 3*df[col].std()\n",
    "        lower_limit = df[col].mean() - 3*df[col].std()\n",
    "        df[col] = np.where(df[col]>upper_limit,upper_limit,np.where(df[col]<lower_limit,lower_limit,df[col]))\n",
    "        "
   ]
  },
  {
   "cell_type": "code",
   "execution_count": 123,
   "id": "2d10889e",
   "metadata": {},
   "outputs": [
    {
     "name": "stdout",
     "output_type": "stream",
     "text": [
      "1    357\n",
      "0    212\n",
      "Name: diagnosis, dtype: int64\n"
     ]
    }
   ],
   "source": [
    "print(df['diagnosis'].value_counts())"
   ]
  },
  {
   "cell_type": "code",
   "execution_count": 124,
   "id": "3fe69de9",
   "metadata": {},
   "outputs": [],
   "source": [
    "# Data Preparation\n",
    "x=df.iloc[:,:-1].values\n",
    "y=df.iloc[:,-1].values"
   ]
  },
  {
   "cell_type": "code",
   "execution_count": 125,
   "id": "3b17c562",
   "metadata": {},
   "outputs": [
    {
     "data": {
      "text/plain": [
       "((569, 30), (569,))"
      ]
     },
     "execution_count": 125,
     "metadata": {},
     "output_type": "execute_result"
    }
   ],
   "source": [
    "x.shape,y.shape"
   ]
  },
  {
   "cell_type": "code",
   "execution_count": 126,
   "id": "6b55c687",
   "metadata": {},
   "outputs": [
    {
     "data": {
      "text/plain": [
       "array([[1.799e+01, 1.038e+01, 1.228e+02, ..., 2.654e-01, 4.601e-01,\n",
       "        1.189e-01],\n",
       "       [2.057e+01, 1.777e+01, 1.329e+02, ..., 1.860e-01, 2.750e-01,\n",
       "        8.902e-02],\n",
       "       [1.969e+01, 2.125e+01, 1.300e+02, ..., 2.430e-01, 3.613e-01,\n",
       "        8.758e-02],\n",
       "       ...,\n",
       "       [1.660e+01, 2.808e+01, 1.083e+02, ..., 1.418e-01, 2.218e-01,\n",
       "        7.820e-02],\n",
       "       [2.060e+01, 2.933e+01, 1.401e+02, ..., 2.650e-01, 4.087e-01,\n",
       "        1.240e-01],\n",
       "       [7.760e+00, 2.454e+01, 4.792e+01, ..., 0.000e+00, 2.871e-01,\n",
       "        7.039e-02]])"
      ]
     },
     "execution_count": 126,
     "metadata": {},
     "output_type": "execute_result"
    }
   ],
   "source": [
    "x"
   ]
  },
  {
   "cell_type": "code",
   "execution_count": 127,
   "id": "7f999025",
   "metadata": {},
   "outputs": [
    {
     "data": {
      "text/plain": [
       "'from sklearn.preprocessing import StandardScaler\\nsc = StandardScaler()\\nsc.fit(x)\\nx = sc.transform(x)'"
      ]
     },
     "execution_count": 127,
     "metadata": {},
     "output_type": "execute_result"
    }
   ],
   "source": [
    "'''from sklearn.preprocessing import StandardScaler\n",
    "sc = StandardScaler()\n",
    "sc.fit(x)\n",
    "x = sc.transform(x)'''"
   ]
  },
  {
   "cell_type": "code",
   "execution_count": 128,
   "id": "9b484284",
   "metadata": {},
   "outputs": [
    {
     "data": {
      "text/plain": [
       "array([[1.799e+01, 1.038e+01, 1.228e+02, ..., 2.654e-01, 4.601e-01,\n",
       "        1.189e-01],\n",
       "       [2.057e+01, 1.777e+01, 1.329e+02, ..., 1.860e-01, 2.750e-01,\n",
       "        8.902e-02],\n",
       "       [1.969e+01, 2.125e+01, 1.300e+02, ..., 2.430e-01, 3.613e-01,\n",
       "        8.758e-02],\n",
       "       ...,\n",
       "       [1.660e+01, 2.808e+01, 1.083e+02, ..., 1.418e-01, 2.218e-01,\n",
       "        7.820e-02],\n",
       "       [2.060e+01, 2.933e+01, 1.401e+02, ..., 2.650e-01, 4.087e-01,\n",
       "        1.240e-01],\n",
       "       [7.760e+00, 2.454e+01, 4.792e+01, ..., 0.000e+00, 2.871e-01,\n",
       "        7.039e-02]])"
      ]
     },
     "execution_count": 128,
     "metadata": {},
     "output_type": "execute_result"
    }
   ],
   "source": [
    "x"
   ]
  },
  {
   "cell_type": "code",
   "execution_count": 129,
   "id": "14279dfa",
   "metadata": {},
   "outputs": [
    {
     "name": "stdout",
     "output_type": "stream",
     "text": [
      "[0.04825172 0.01387804 0.05556579 0.06601246 0.00915881 0.01869774\n",
      " 0.0552144  0.07982456 0.00884502 0.00627224 0.02722648 0.00520308\n",
      " 0.01577498 0.07401033 0.0064363  0.00699692 0.00542705 0.01079486\n",
      " 0.00560626 0.006708   0.09368128 0.02359066 0.0523432  0.09064754\n",
      " 0.01795093 0.02142579 0.04954731 0.09975947 0.01550959 0.00963919]\n"
     ]
    }
   ],
   "source": [
    "from sklearn.ensemble import ExtraTreesClassifier\n",
    "model = ExtraTreesClassifier()\n",
    "model.fit(x, y)\n",
    "print(model.feature_importances_)"
   ]
  },
  {
   "cell_type": "code",
   "execution_count": 130,
   "id": "98dfdd83",
   "metadata": {},
   "outputs": [
    {
     "data": {
      "text/plain": [
       "[2, 3, 6, 7, 13, 20, 22, 23, 26, 27]"
      ]
     },
     "execution_count": 130,
     "metadata": {},
     "output_type": "execute_result"
    }
   ],
   "source": [
    "feature_importance = pd.DataFrame(model.feature_importances_)\n",
    "lst=list(feature_importance.sort_values(0,ascending=False).head(10).index)\n",
    "lst.sort()\n",
    "lst"
   ]
  },
  {
   "cell_type": "code",
   "execution_count": 131,
   "id": "1e75b3f1",
   "metadata": {},
   "outputs": [],
   "source": [
    "x = x[:,lst]"
   ]
  },
  {
   "cell_type": "code",
   "execution_count": 132,
   "id": "6ffa6e3e",
   "metadata": {},
   "outputs": [
    {
     "name": "stdout",
     "output_type": "stream",
     "text": [
      "perimeter_mean\n",
      "area_mean\n",
      "concavity_mean\n",
      "concave points_mean\n",
      "area_se\n",
      "radius_worst\n",
      "perimeter_worst\n",
      "area_worst\n",
      "concavity_worst\n",
      "concave points_worst\n"
     ]
    }
   ],
   "source": [
    "for i in lst:\n",
    "    print(df.columns[i])\n",
    "    #print(df[df.columns[i]].value_counts())"
   ]
  },
  {
   "cell_type": "code",
   "execution_count": null,
   "id": "054926a3",
   "metadata": {},
   "outputs": [],
   "source": []
  },
  {
   "cell_type": "code",
   "execution_count": 133,
   "id": "82aafff9",
   "metadata": {},
   "outputs": [],
   "source": [
    "# Splitting X and Y\n",
    "from sklearn.model_selection import train_test_split\n",
    "X_train, X_test, Y_train, Y_test = train_test_split(x, y, test_size = 0.20, random_state = 42)"
   ]
  },
  {
   "cell_type": "code",
   "execution_count": 134,
   "id": "2798b337",
   "metadata": {},
   "outputs": [
    {
     "name": "stdout",
     "output_type": "stream",
     "text": [
      "X_train shape: (455, 10)\n",
      "X_test shape: (114, 10)\n",
      "Y_train shape: (455,)\n",
      "Y_test shape: (114,)\n"
     ]
    }
   ],
   "source": [
    "# Checking dimensions\n",
    "print(\"X_train shape:\", X_train.shape)\n",
    "print(\"X_test shape:\", X_test.shape)\n",
    "print(\"Y_train shape:\", Y_train.shape)\n",
    "print(\"Y_test shape:\", Y_test.shape)"
   ]
  },
  {
   "cell_type": "code",
   "execution_count": 135,
   "id": "53bd9fb0",
   "metadata": {},
   "outputs": [],
   "source": [
    "def evaluate_model(models):\n",
    "   \n",
    "    result_train = []\n",
    "    result_test = []\n",
    "    for model in models :\n",
    "        trained_model = model.fit(X_train, Y_train)\n",
    "        Y_pred = trained_model.predict(X_test)\n",
    "        accuracy_test = accuracy_score(Y_test, Y_pred)\n",
    "        accuracy_train = accuracy_score(Y_train, trained_model.predict(X_train))\n",
    "        result_train.append(accuracy_train*100)\n",
    "        result_test.append(accuracy_test*100)\n",
    "        \n",
    "\n",
    "    result_df = pd.DataFrame({\n",
    "        \"Accuracy Training Set\":result_train,\n",
    "        \"Accuracy Testing Set\":result_test,\n",
    "        \"Models\":[\n",
    "            \"Logistic Regression\",\n",
    "            \"Decision Tree Classifier\",\n",
    "            \"AdaBoost Classifier\",\n",
    "            \"Support Vector Machine\",\n",
    "            \"Random Forest Classifier\",\n",
    "            \"Gradient Boosting Classifier\",\n",
    "            \"XGBoost\",\n",
    "            \"Naive Bayes\",\n",
    "            \"K-Nearest Neighbors Classifier\",\n",
    "            \"LightGBM\"\n",
    "        ]\n",
    "    })\n",
    "\n",
    "    # Generate chart\n",
    "    bar = sns.barplot(x = \"Accuracy Testing Set\", y = \"Models\", data = result_df, orient = \"h\",order=result_df.sort_values('Accuracy Testing Set',ascending = False).Models.head())\n",
    "    bar.set_xlabel(\"Mean Accuracy\")\n",
    "    bar.set_title(\"Accuracy Scores\")\n",
    "    return result_df.sort_values('Accuracy Testing Set',ascending = False).head()"
   ]
  },
  {
   "cell_type": "code",
   "execution_count": 136,
   "id": "7f3a051d",
   "metadata": {},
   "outputs": [
    {
     "name": "stdout",
     "output_type": "stream",
     "text": [
      "[19:24:59] WARNING: C:/Users/Administrator/workspace/xgboost-win64_release_1.4.0/src/learner.cc:1095: Starting in XGBoost 1.3.0, the default evaluation metric used with the objective 'binary:logistic' was changed from 'error' to 'logloss'. Explicitly set eval_metric if you'd like to restore the old behavior.\n"
     ]
    },
    {
     "data": {
      "text/html": [
       "<div>\n",
       "<style scoped>\n",
       "    .dataframe tbody tr th:only-of-type {\n",
       "        vertical-align: middle;\n",
       "    }\n",
       "\n",
       "    .dataframe tbody tr th {\n",
       "        vertical-align: top;\n",
       "    }\n",
       "\n",
       "    .dataframe thead th {\n",
       "        text-align: right;\n",
       "    }\n",
       "</style>\n",
       "<table border=\"1\" class=\"dataframe\">\n",
       "  <thead>\n",
       "    <tr style=\"text-align: right;\">\n",
       "      <th></th>\n",
       "      <th>Accuracy Training Set</th>\n",
       "      <th>Accuracy Testing Set</th>\n",
       "      <th>Models</th>\n",
       "    </tr>\n",
       "  </thead>\n",
       "  <tbody>\n",
       "    <tr>\n",
       "      <th>0</th>\n",
       "      <td>94.065934</td>\n",
       "      <td>97.368421</td>\n",
       "      <td>Logistic Regression</td>\n",
       "    </tr>\n",
       "    <tr>\n",
       "      <th>7</th>\n",
       "      <td>93.186813</td>\n",
       "      <td>97.368421</td>\n",
       "      <td>Naive Bayes</td>\n",
       "    </tr>\n",
       "    <tr>\n",
       "      <th>9</th>\n",
       "      <td>100.000000</td>\n",
       "      <td>96.491228</td>\n",
       "      <td>LightGBM</td>\n",
       "    </tr>\n",
       "    <tr>\n",
       "      <th>2</th>\n",
       "      <td>100.000000</td>\n",
       "      <td>95.614035</td>\n",
       "      <td>AdaBoost Classifier</td>\n",
       "    </tr>\n",
       "    <tr>\n",
       "      <th>4</th>\n",
       "      <td>100.000000</td>\n",
       "      <td>95.614035</td>\n",
       "      <td>Random Forest Classifier</td>\n",
       "    </tr>\n",
       "  </tbody>\n",
       "</table>\n",
       "</div>"
      ],
      "text/plain": [
       "   Accuracy Training Set  Accuracy Testing Set                    Models\n",
       "0              94.065934             97.368421       Logistic Regression\n",
       "7              93.186813             97.368421               Naive Bayes\n",
       "9             100.000000             96.491228                  LightGBM\n",
       "2             100.000000             95.614035       AdaBoost Classifier\n",
       "4             100.000000             95.614035  Random Forest Classifier"
      ]
     },
     "execution_count": 136,
     "metadata": {},
     "output_type": "execute_result"
    },
    {
     "data": {
      "image/png": "[encoded data removed]",
      "text/plain": [
       "<Figure size 432x288 with 1 Axes>"
      ]
     },
     "metadata": {},
     "output_type": "display_data"
    }
   ],
   "source": [
    "# Modeling step Test differents algorithms \n",
    "random_state = 30\n",
    "models = [\n",
    "    LogisticRegression(random_state = random_state),\n",
    "    DecisionTreeClassifier(random_state = random_state),\n",
    "    AdaBoostClassifier(n_estimators=50,learning_rate=1),\n",
    "    SVC(random_state = 0),\n",
    "    RandomForestClassifier(random_state = random_state),\n",
    "    GradientBoostingClassifier(random_state = random_state),\n",
    "    XGBClassifier(),\n",
    "    GaussianNB(),\n",
    "    KNeighborsClassifier(n_neighbors=3),\n",
    "    lgb.LGBMClassifier()\n",
    "]\n",
    "evaluate_model(models)"
   ]
  },
  {
   "cell_type": "code",
   "execution_count": 137,
   "id": "0660ca84",
   "metadata": {},
   "outputs": [
    {
     "name": "stdout",
     "output_type": "stream",
     "text": [
      "Accuracy: 97.37%\n"
     ]
    },
    {
     "data": {
      "text/plain": [
       "Text(16.5, 0.5, 'Predicted Label')"
      ]
     },
     "execution_count": 137,
     "metadata": {},
     "output_type": "execute_result"
    },
    {
     "data": {
      "image/png": "[encoded data removed]",
      "text/plain": [
       "<Figure size 360x360 with 1 Axes>"
      ]
     },
     "metadata": {},
     "output_type": "display_data"
    }
   ],
   "source": [
    "# Define models and parameters for RandomForestClassifier\n",
    "model = LogisticRegression(random_state = random_state)\n",
    "\n",
    "lr = model.fit(X_train, Y_train)\n",
    "Y_pred = lr.predict(X_test)\n",
    "# Evaluating using accuracy_score metric\n",
    "from sklearn.metrics import accuracy_score\n",
    "accuracy = accuracy_score(Y_test, Y_pred)\n",
    "print(\"Accuracy: \" + str(round((accuracy * 100),2))+\"%\")\n",
    "\n",
    "\n",
    "sns.set(font_scale=1.5)\n",
    "fig,ax=plt.subplots(figsize=(5,5))\n",
    "ax=sns.heatmap(confusion_matrix(Y_test,Y_pred),annot=True,cbar=False,fmt=\".1f\")\n",
    "plt.xlabel(\"True Label\")\n",
    "plt.ylabel(\"Predicted Label\")"
   ]
  },
  {
   "cell_type": "code",
   "execution_count": 81,
   "id": "e51eba85",
   "metadata": {},
   "outputs": [],
   "source": [
    "##Hyperparameter Tuning\n"
   ]
  },
  {
   "cell_type": "code",
   "execution_count": 140,
   "id": "0d487058",
   "metadata": {},
   "outputs": [
    {
     "data": {
      "text/plain": [
       "(455, 10)"
      ]
     },
     "execution_count": 140,
     "metadata": {},
     "output_type": "execute_result"
    }
   ],
   "source": [
    "X_train.shape"
   ]
  },
  {
   "cell_type": "markdown",
   "id": "1431a0d8",
   "metadata": {},
   "source": [
    "## Logistic Regression (FINAL MODEL)"
   ]
  },
  {
   "cell_type": "code",
   "execution_count": 108,
   "id": "9eb239b2",
   "metadata": {},
   "outputs": [
    {
     "name": "stdout",
     "output_type": "stream",
     "text": [
      "Fitting 5 folds for each of 400 candidates, totalling 2000 fits\n"
     ]
    },
    {
     "data": {
      "text/plain": [
       "({'C': 100, 'max_iter': 100, 'penalty': 'l2', 'solver': 'newton-cg'},\n",
       " 0.9538461538461538)"
      ]
     },
     "execution_count": 108,
     "metadata": {},
     "output_type": "execute_result"
    }
   ],
   "source": [
    "param_grid = [    \n",
    "    {'penalty' : ['l1', 'l2', 'elasticnet', 'none'],\n",
    "    'C' : [100, 10, 1.0, 0.1, 0.01],\n",
    "    'solver' : ['lbfgs','newton-cg','liblinear','sag','saga'],\n",
    "    'max_iter' : [100, 1000,2500, 5000]\n",
    "    }\n",
    "]\n",
    "tuning = GridSearchCV(estimator=LogisticRegression(), param_grid=param_grid, verbose = True, cv=5, n_jobs = -1,scoring='accuracy')\n",
    "tuning.fit(X_train,Y_train)\n",
    "tuning.best_params_,tuning.best_score_"
   ]
  },
  {
   "cell_type": "code",
   "execution_count": 146,
   "id": "188e271c",
   "metadata": {},
   "outputs": [
    {
     "name": "stdout",
     "output_type": "stream",
     "text": [
      "Test set accuracy:  0.9912280701754386\n"
     ]
    }
   ],
   "source": [
    "classifier=LogisticRegression(C= 100, max_iter= 100, penalty= 'l2', solver= 'newton-cg')\n",
    "model=classifier.fit(X_train,Y_train)\n",
    "y_pred=model.predict(X_test)\n",
    "print('Test set accuracy: ', accuracy_score(Y_test, y_pred))"
   ]
  },
  {
   "cell_type": "code",
   "execution_count": 148,
   "id": "7ee6859a",
   "metadata": {},
   "outputs": [
    {
     "name": "stdout",
     "output_type": "stream",
     "text": [
      "Accuracy: 99.12%\n"
     ]
    },
    {
     "data": {
      "text/plain": [
       "Text(16.5, 0.5, 'Predicted Label')"
      ]
     },
     "execution_count": 148,
     "metadata": {},
     "output_type": "execute_result"
    },
    {
     "data": {
      "image/png": "[encoded data removed]",
      "text/plain": [
       "<Figure size 360x360 with 1 Axes>"
      ]
     },
     "metadata": {},
     "output_type": "display_data"
    }
   ],
   "source": [
    "from sklearn.metrics import accuracy_score\n",
    "accuracy = accuracy_score(Y_test, y_pred)\n",
    "print(\"Accuracy: \" + str(round((accuracy * 100),2))+\"%\")\n",
    "\n",
    "\n",
    "sns.set(font_scale=1.5)\n",
    "fig,ax=plt.subplots(figsize=(5,5))\n",
    "ax=sns.heatmap(confusion_matrix(Y_test,y_pred),annot=True,cbar=False,fmt=\".1f\")\n",
    "plt.xlabel(\"True Label\")\n",
    "plt.ylabel(\"Predicted Label\")"
   ]
  },
  {
   "cell_type": "code",
   "execution_count": 30,
   "id": "d4373daf",
   "metadata": {},
   "outputs": [],
   "source": [
    "##Decision Tree"
   ]
  },
  {
   "cell_type": "code",
   "execution_count": null,
   "id": "8c7fc5be",
   "metadata": {},
   "outputs": [],
   "source": []
  },
  {
   "cell_type": "code",
   "execution_count": 31,
   "id": "755118e4",
   "metadata": {},
   "outputs": [
    {
     "name": "stdout",
     "output_type": "stream",
     "text": [
      "Fitting 4 folds for each of 50 candidates, totalling 200 fits\n"
     ]
    },
    {
     "data": {
      "text/plain": [
       "({'criterion': 'gini', 'max_depth': 20, 'min_samples_leaf': 5},\n",
       " 0.9406342182890854)"
      ]
     },
     "execution_count": 31,
     "metadata": {},
     "output_type": "execute_result"
    }
   ],
   "source": [
    "param_grid = {\n",
    "    'max_depth': [2, 3, 5, 10, 20],\n",
    "    'min_samples_leaf': [5, 10, 20, 50, 100],\n",
    "    'criterion': [\"gini\", \"entropy\"]\n",
    "}\n",
    "\n",
    "tuning = GridSearchCV(estimator=DecisionTreeClassifier(), param_grid=param_grid, cv=4, n_jobs=-1, verbose=1, scoring = \"accuracy\")\n",
    "tuning.fit(X_train,Y_train)\n",
    "tuning.best_params_,tuning.best_score_"
   ]
  },
  {
   "cell_type": "code",
   "execution_count": 32,
   "id": "91d67c9a",
   "metadata": {},
   "outputs": [
    {
     "name": "stdout",
     "output_type": "stream",
     "text": [
      "Test set accuracy:  0.9122807017543859\n"
     ]
    }
   ],
   "source": [
    "classifier=DecisionTreeClassifier(max_depth= 5,min_samples_leaf=5,criterion='gini')\n",
    "model=classifier.fit(X_train,Y_train)\n",
    "y_pred=model.predict(X_test)\n",
    "print('Test set accuracy: ', accuracy_score(Y_test, y_pred))"
   ]
  },
  {
   "cell_type": "code",
   "execution_count": 33,
   "id": "03a2a00a",
   "metadata": {},
   "outputs": [],
   "source": [
    "##Support Vector Machine"
   ]
  },
  {
   "cell_type": "code",
   "execution_count": null,
   "id": "4e5a3678",
   "metadata": {},
   "outputs": [
    {
     "name": "stdout",
     "output_type": "stream",
     "text": [
      "Fitting 2 folds for each of 525 candidates, totalling 1050 fits\n"
     ]
    }
   ],
   "source": [
    "param_grid = {'C': [0.1, 1, 10, 100, 1000],\n",
    "              'gamma': [1, 0.1, 0.01, 0.001, 0.0001],\n",
    "              'kernel': ['linear', 'rbf', 'poly'],\n",
    "              'degree': [0, 1, 2, 3, 4, 5, 6]}\n",
    " \n",
    "tuning=GridSearchCV(estimator=SVC(),param_grid=param_grid,cv=2,verbose=1,n_jobs=-1,scoring='accuracy')\n",
    "tuning.fit(X_train,Y_train)\n",
    "tuning.best_params_,tuning.best_score_"
   ]
  },
  {
   "cell_type": "code",
   "execution_count": null,
   "id": "b91c74e7",
   "metadata": {},
   "outputs": [],
   "source": [
    "classifier=SVC(C=100,gamma=1,kernel='rbf',degree=0,random_state=10)\n",
    "model=classifier.fit(X_train,Y_train)\n",
    "y_pred=model.predict(X_test)\n",
    "print('Test set accuracy: ', accuracy_score(Y_test, y_pred))"
   ]
  },
  {
   "cell_type": "code",
   "execution_count": null,
   "id": "bbe4050c",
   "metadata": {},
   "outputs": [],
   "source": [
    "##Naive Bayes"
   ]
  },
  {
   "cell_type": "code",
   "execution_count": null,
   "id": "1e71085e",
   "metadata": {},
   "outputs": [],
   "source": [
    "param_grid={'var_smoothing': np.logspace(0,-9, num=100)}\n",
    "tuning=GridSearchCV(estimator=GaussianNB(), param_grid=param_grid,cv=5,verbose=2,n_jobs=-1,scoring='accuracy')\n",
    "tuning.fit(X_train,Y_train)\n",
    "tuning.best_params_,tuning.best_score_"
   ]
  },
  {
   "cell_type": "code",
   "execution_count": null,
   "id": "efff0911",
   "metadata": {},
   "outputs": [],
   "source": [
    "classifier=GaussianNB(var_smoothing=  0.0023101297000831605)\n",
    "model=classifier.fit(X_train,Y_train)\n",
    "y_pred=model.predict(X_test)\n",
    "print('Test set accuracy: ', accuracy_score(Y_test, y_pred))"
   ]
  },
  {
   "cell_type": "code",
   "execution_count": null,
   "id": "6b46f2fe",
   "metadata": {},
   "outputs": [],
   "source": [
    "##KNN"
   ]
  },
  {
   "cell_type": "code",
   "execution_count": null,
   "id": "c736bf58",
   "metadata": {},
   "outputs": [],
   "source": [
    "param_grid =[ { 'n_neighbors' : range(0,20,1),\n",
    "               'algorithm':['auto','ball_tree','kd_tree','brute'],\n",
    "               'weights' : ['uniform','distance'],\n",
    "               'metric' : ['minkowski','euclidean','manhattan'],\n",
    "              'p':[0,1,2,3]}]\n",
    "tuning=GridSearchCV(estimator=KNeighborsClassifier(), param_grid=param_grid,cv=5,verbose=2,n_jobs=-1,scoring='accuracy')\n",
    "tuning.fit(X_train,Y_train)\n",
    "tuning.best_params_,tuning.best_score_"
   ]
  },
  {
   "cell_type": "code",
   "execution_count": null,
   "id": "950baefd",
   "metadata": {},
   "outputs": [],
   "source": [
    "classifier=KNeighborsClassifier(algorithm='auto',metric= 'minkowski',n_neighbors=1,p=1,weights='uniform')\n",
    "model=classifier.fit(X_train,Y_train)\n",
    "y_pred=model.predict(X_test)\n",
    "print('Test set accuracy: ', accuracy_score(Y_test, y_pred))"
   ]
  },
  {
   "cell_type": "code",
   "execution_count": null,
   "id": "d56ebf53",
   "metadata": {},
   "outputs": [],
   "source": [
    "##Random Forest"
   ]
  },
  {
   "cell_type": "code",
   "execution_count": null,
   "id": "ba267188",
   "metadata": {},
   "outputs": [],
   "source": [
    "param_grid={'n_estimators':range(80,201,5),'criterion':['gini','entropy'],'max_features':['auto','sqrt','log2',None]}\n",
    "\n",
    "tuning=GridSearchCV(estimator=RandomForestClassifier(),param_grid=param_grid,cv=5,verbose=2,n_jobs=-1,scoring='accuracy')\n",
    "tuning.fit(X_train,Y_train)\n",
    "tuning.best_params_,tuning.best_score_"
   ]
  },
  {
   "cell_type": "code",
   "execution_count": null,
   "id": "ed583cb1",
   "metadata": {},
   "outputs": [],
   "source": [
    "classifier=RandomForestClassifier(n_estimators=155,criterion='gini',max_features='auto',random_state=10)\n",
    "model=classifier.fit(X_train,Y_train)\n",
    "y_pred=model.predict(X_test)\n",
    "print('Test set accuracy: ', accuracy_score(Y_test, y_pred))"
   ]
  },
  {
   "cell_type": "code",
   "execution_count": null,
   "id": "7f60af02",
   "metadata": {},
   "outputs": [],
   "source": []
  },
  {
   "cell_type": "code",
   "execution_count": null,
   "id": "1a400fe8",
   "metadata": {},
   "outputs": [],
   "source": []
  },
  {
   "cell_type": "code",
   "execution_count": null,
   "id": "4603e915",
   "metadata": {},
   "outputs": [],
   "source": []
  },
  {
   "cell_type": "code",
   "execution_count": null,
   "id": "bca4c22a",
   "metadata": {},
   "outputs": [],
   "source": []
  },
  {
   "cell_type": "code",
   "execution_count": null,
   "id": "2ff5919a",
   "metadata": {},
   "outputs": [],
   "source": []
  },
  {
   "cell_type": "code",
   "execution_count": null,
   "id": "626b9e27",
   "metadata": {},
   "outputs": [],
   "source": [
    "input_data = (13.54,14.36,87.46,566.3,0.09779,0.08129,0.06664,0.04781,0.1885,0.05766,0.2699,0.7886,2.058,23.56,0.008462,0.0146,0.02387,0.01315,0.0198,0.0023,15.11,19.26,99.7,711.2,0.144,0.1773,0.239,0.1288,0.2977,0.07259)\n",
    "\n",
    "# changing the input_data to numpy array\n",
    "input_data_as_numpy_array = np.asarray(input_data)\n",
    "\n",
    "# reshape the array as we are predicting for one instance\n",
    "input_data_reshaped = input_data_as_numpy_array.reshape(1,-1)\n",
    "\n",
    "# standardize the input data\n",
    "std_data = sc.transform(input_data_reshaped)\n",
    "\n",
    "prediction = lr.predict(std_data)\n",
    "\n",
    "if (prediction[0] == 0):\n",
    "    print('M')\n",
    "else:\n",
    "    print('B')"
   ]
  },
  {
   "cell_type": "code",
   "execution_count": null,
   "id": "d7a0d9ef",
   "metadata": {},
   "outputs": [],
   "source": [
    "from sklearn.decomposition import PCA\n",
    "\n",
    "pca = PCA(n_components=3)\n",
    "X_train = pca.fit_transform(X_train)\n",
    "X_test = pca.transform(X_test)"
   ]
  },
  {
   "cell_type": "code",
   "execution_count": null,
   "id": "6dcf66a4",
   "metadata": {},
   "outputs": [],
   "source": [
    "X_train"
   ]
  },
  {
   "cell_type": "code",
   "execution_count": null,
   "id": "8e8ea679",
   "metadata": {},
   "outputs": [],
   "source": [
    "def evaluate_model(models):\n",
    "   \n",
    "    result_train = []\n",
    "    result_test = []\n",
    "    for model in models :\n",
    "        trained_model = model.fit(X_train, Y_train)\n",
    "        Y_pred = trained_model.predict(X_test)\n",
    "        accuracy_test = accuracy_score(Y_test, Y_pred)\n",
    "        accuracy_train = accuracy_score(Y_train, trained_model.predict(X_train))\n",
    "        result_train.append(accuracy_train*100)\n",
    "        result_test.append(accuracy_test*100)\n",
    "        \n",
    "\n",
    "    result_df = pd.DataFrame({\n",
    "        \"Accuracy Training Set\":result_train,\n",
    "        \"Accuracy Testing Set\":result_test,\n",
    "        \"Models\":[\n",
    "            \"LogisticRegression\",\n",
    "            \"DecisionTreeClassifier\",\n",
    "            \"AdaBoostClassifier\",\n",
    "            \"SVC\",\n",
    "            \"RandomForestClassifier\",\n",
    "            \"GradientBoostingClassifier\",\n",
    "            \"XGBoost\",\n",
    "            \"GaussianNB\",\n",
    "            \"KNeighborsClassifier\",\n",
    "            \"LGB\"\n",
    "        ]\n",
    "    })\n",
    "\n",
    "    # Generate chart\n",
    "    bar = sns.barplot(x = \"Accuracy Testing Set\", y = \"Models\", data = result_df, orient = \"h\",order=result_df.sort_values('Accuracy Testing Set',ascending = False).Models.head())\n",
    "    bar.set_xlabel(\"Mean Accuracy\")\n",
    "    bar.set_title(\"Accuracy Scores\")\n",
    "    return result_df.sort_values('Accuracy Testing Set',ascending = False).head()"
   ]
  },
  {
   "cell_type": "code",
   "execution_count": null,
   "id": "3c5dbe27",
   "metadata": {},
   "outputs": [],
   "source": [
    "# Modeling step Test differents algorithms \n",
    "random_state = 30\n",
    "models = [\n",
    "    LogisticRegression(random_state = random_state, solver='liblinear', class_weight='balanced'),\n",
    "    DecisionTreeClassifier(random_state = random_state),\n",
    "    AdaBoostClassifier(n_estimators=50,learning_rate=1),\n",
    "    SVC(kernel ='rbf', random_state = 0),\n",
    "    RandomForestClassifier(random_state = random_state),\n",
    "    GradientBoostingClassifier(random_state = random_state),\n",
    "    XGBClassifier(max_depth=2,gamma=2,eta=0.8,reg_alpha=0.5,reg_lambda=0.5,eval_metric='merror'),\n",
    "    GaussianNB(),\n",
    "    KNeighborsClassifier(n_neighbors=3),\n",
    "    lgb.LGBMClassifier()\n",
    "]\n",
    "evaluate_model(models)"
   ]
  },
  {
   "cell_type": "code",
   "execution_count": null,
   "id": "015b6943",
   "metadata": {},
   "outputs": [],
   "source": [
    "pca = PCA(n_components=3)\n",
    "x_pca = pca.fit_transform(x)\n",
    "\n",
    "Xax = x_pca[:,0]\n",
    "Yax = x_pca[:,1]\n",
    "Zax = x_pca[:,2]\n",
    "\n",
    "cdict = {0:'red',1:'green'}\n",
    "labl = {0:'Malignant',1:'Benign'}\n",
    "marker = {0:'*',1:'o'}\n",
    "alpha = {0:.3, 1:.5}\n",
    "\n",
    "fig = plt.figure(figsize=(10,10))\n",
    "ax = fig.add_subplot(111, projection='3d')\n",
    "\n",
    "fig.patch.set_facecolor('white')\n",
    "for l in np.unique(y):\n",
    "    ix=np.where(y==l)\n",
    "    ax.scatter(Xax[ix], Yax[ix], Zax[ix], c=cdict[l], s=40, label=labl[l], marker=marker[l], alpha=alpha[l])\n",
    "# for loop ends\n",
    "ax.set_xlabel(\"First Principal Component\", fontsize=14)\n",
    "ax.set_ylabel(\"Second Principal Component\", fontsize=14)\n",
    "ax.set_zlabel(\"Third Principal Component\", fontsize=14)\n",
    "\n",
    "ax.legend()\n",
    "plt.show()"
   ]
  },
  {
   "cell_type": "code",
   "execution_count": null,
   "id": "a6d175b2",
   "metadata": {},
   "outputs": [],
   "source": [
    "from sklearn.decomposition import PCA\n",
    "from sklearn.preprocessing import StandardScaler\n",
    "from sklearn.pipeline import Pipeline\n",
    "import matplotlib.pyplot as plt\n",
    " \n",
    "df = df=pd.read_csv('data.csv')\n",
    "df = df.drop(['id', 'Unnamed: 32'], axis=1)\n",
    "df['target'] = df['diagnosis'].apply({'M':0,'B':1}.get) \n",
    "\n",
    "X, y = df.iloc[:,1:-1].values, df.iloc[:,-1].values"
   ]
  },
  {
   "cell_type": "code",
   "execution_count": null,
   "id": "5b457a9e",
   "metadata": {},
   "outputs": [],
   "source": [
    "pca = PCA()\n",
    "pipe = Pipeline([('scaler', StandardScaler()), ('pca', pca)])\n",
    "plt.figure(figsize=(8,6))\n",
    "Xt = pipe.fit_transform(X)\n",
    "plot = plt.scatter(Xt[:,0], Xt[:,1], c=y)\n",
    "plt.legend(handles=plot.legend_elements()[0], labels=list(df['diagnosis'].unique()))\n",
    "plt.show()"
   ]
  },
  {
   "cell_type": "code",
   "execution_count": null,
   "id": "2f91a569",
   "metadata": {},
   "outputs": [],
   "source": [
    "\n",
    "txt=\"20.57\t17.77\t132.9\t1326.0\t0.08474\t0.07864\t0.0869\t0.07017\t0.1812\t...\t24.99\t23.41\t158.8\t1956.0\t0.1238\t0.1866\t0.2416\t0.186\t0.275\t0.08902\"\n",
    "\n",
    "\n",
    "txt=txt.replace(\"\\t\",\",\")\n",
    "txt"
   ]
  },
  {
   "cell_type": "code",
   "execution_count": 142,
   "id": "bbf07de5",
   "metadata": {},
   "outputs": [
    {
     "data": {
      "text/plain": [
       "LogisticRegression(C=100, solver='newton-cg')"
      ]
     },
     "execution_count": 142,
     "metadata": {},
     "output_type": "execute_result"
    }
   ],
   "source": [
    "model"
   ]
  },
  {
   "cell_type": "code",
   "execution_count": 143,
   "id": "e55a5f37",
   "metadata": {},
   "outputs": [],
   "source": [
    "import pickle\n",
    "pickle.dump(model,open(r'C:\\Users\\antar\\PycharmProjects\\HealthCareSystem\\Breast Cancer.pkl','wb'))"
   ]
  },
  {
   "cell_type": "code",
   "execution_count": 52,
   "id": "dd301498",
   "metadata": {},
   "outputs": [
    {
     "data": {
      "text/html": [
       "<div>\n",
       "<style scoped>\n",
       "    .dataframe tbody tr th:only-of-type {\n",
       "        vertical-align: middle;\n",
       "    }\n",
       "\n",
       "    .dataframe tbody tr th {\n",
       "        vertical-align: top;\n",
       "    }\n",
       "\n",
       "    .dataframe thead th {\n",
       "        text-align: right;\n",
       "    }\n",
       "</style>\n",
       "<table border=\"1\" class=\"dataframe\">\n",
       "  <thead>\n",
       "    <tr style=\"text-align: right;\">\n",
       "      <th></th>\n",
       "      <th>radius_mean</th>\n",
       "      <th>texture_mean</th>\n",
       "      <th>perimeter_mean</th>\n",
       "      <th>area_mean</th>\n",
       "      <th>smoothness_mean</th>\n",
       "      <th>compactness_mean</th>\n",
       "      <th>concavity_mean</th>\n",
       "      <th>concave points_mean</th>\n",
       "      <th>symmetry_mean</th>\n",
       "      <th>fractal_dimension_mean</th>\n",
       "      <th>...</th>\n",
       "      <th>texture_worst</th>\n",
       "      <th>perimeter_worst</th>\n",
       "      <th>area_worst</th>\n",
       "      <th>smoothness_worst</th>\n",
       "      <th>compactness_worst</th>\n",
       "      <th>concavity_worst</th>\n",
       "      <th>concave points_worst</th>\n",
       "      <th>symmetry_worst</th>\n",
       "      <th>fractal_dimension_worst</th>\n",
       "      <th>diagnosis</th>\n",
       "    </tr>\n",
       "  </thead>\n",
       "  <tbody>\n",
       "    <tr>\n",
       "      <th>0</th>\n",
       "      <td>17.99</td>\n",
       "      <td>10.38</td>\n",
       "      <td>122.80</td>\n",
       "      <td>1001.0</td>\n",
       "      <td>0.118400</td>\n",
       "      <td>0.262779</td>\n",
       "      <td>0.300100</td>\n",
       "      <td>0.14710</td>\n",
       "      <td>0.2419</td>\n",
       "      <td>0.078710</td>\n",
       "      <td>...</td>\n",
       "      <td>17.33</td>\n",
       "      <td>184.60</td>\n",
       "      <td>2019.0</td>\n",
       "      <td>0.162200</td>\n",
       "      <td>0.665600</td>\n",
       "      <td>0.711900</td>\n",
       "      <td>0.2654</td>\n",
       "      <td>0.460100</td>\n",
       "      <td>0.11890</td>\n",
       "      <td>0</td>\n",
       "    </tr>\n",
       "    <tr>\n",
       "      <th>1</th>\n",
       "      <td>20.57</td>\n",
       "      <td>17.77</td>\n",
       "      <td>132.90</td>\n",
       "      <td>1326.0</td>\n",
       "      <td>0.084740</td>\n",
       "      <td>0.078640</td>\n",
       "      <td>0.086900</td>\n",
       "      <td>0.07017</td>\n",
       "      <td>0.1812</td>\n",
       "      <td>0.056670</td>\n",
       "      <td>...</td>\n",
       "      <td>23.41</td>\n",
       "      <td>158.80</td>\n",
       "      <td>1956.0</td>\n",
       "      <td>0.123800</td>\n",
       "      <td>0.186600</td>\n",
       "      <td>0.241600</td>\n",
       "      <td>0.1860</td>\n",
       "      <td>0.275000</td>\n",
       "      <td>0.08902</td>\n",
       "      <td>0</td>\n",
       "    </tr>\n",
       "    <tr>\n",
       "      <th>2</th>\n",
       "      <td>19.69</td>\n",
       "      <td>21.25</td>\n",
       "      <td>130.00</td>\n",
       "      <td>1203.0</td>\n",
       "      <td>0.109600</td>\n",
       "      <td>0.159900</td>\n",
       "      <td>0.197400</td>\n",
       "      <td>0.12790</td>\n",
       "      <td>0.2069</td>\n",
       "      <td>0.059990</td>\n",
       "      <td>...</td>\n",
       "      <td>25.53</td>\n",
       "      <td>152.50</td>\n",
       "      <td>1709.0</td>\n",
       "      <td>0.144400</td>\n",
       "      <td>0.424500</td>\n",
       "      <td>0.450400</td>\n",
       "      <td>0.2430</td>\n",
       "      <td>0.361300</td>\n",
       "      <td>0.08758</td>\n",
       "      <td>0</td>\n",
       "    </tr>\n",
       "    <tr>\n",
       "      <th>3</th>\n",
       "      <td>11.42</td>\n",
       "      <td>20.38</td>\n",
       "      <td>77.58</td>\n",
       "      <td>386.1</td>\n",
       "      <td>0.138553</td>\n",
       "      <td>0.262779</td>\n",
       "      <td>0.241400</td>\n",
       "      <td>0.10520</td>\n",
       "      <td>0.2597</td>\n",
       "      <td>0.083979</td>\n",
       "      <td>...</td>\n",
       "      <td>26.50</td>\n",
       "      <td>98.87</td>\n",
       "      <td>567.7</td>\n",
       "      <td>0.200866</td>\n",
       "      <td>0.726275</td>\n",
       "      <td>0.686900</td>\n",
       "      <td>0.2575</td>\n",
       "      <td>0.475678</td>\n",
       "      <td>0.13813</td>\n",
       "      <td>0</td>\n",
       "    </tr>\n",
       "    <tr>\n",
       "      <th>4</th>\n",
       "      <td>20.29</td>\n",
       "      <td>14.34</td>\n",
       "      <td>135.10</td>\n",
       "      <td>1297.0</td>\n",
       "      <td>0.100300</td>\n",
       "      <td>0.132800</td>\n",
       "      <td>0.198000</td>\n",
       "      <td>0.10430</td>\n",
       "      <td>0.1809</td>\n",
       "      <td>0.058830</td>\n",
       "      <td>...</td>\n",
       "      <td>16.67</td>\n",
       "      <td>152.20</td>\n",
       "      <td>1575.0</td>\n",
       "      <td>0.137400</td>\n",
       "      <td>0.205000</td>\n",
       "      <td>0.400000</td>\n",
       "      <td>0.1625</td>\n",
       "      <td>0.236400</td>\n",
       "      <td>0.07678</td>\n",
       "      <td>0</td>\n",
       "    </tr>\n",
       "    <tr>\n",
       "      <th>...</th>\n",
       "      <td>...</td>\n",
       "      <td>...</td>\n",
       "      <td>...</td>\n",
       "      <td>...</td>\n",
       "      <td>...</td>\n",
       "      <td>...</td>\n",
       "      <td>...</td>\n",
       "      <td>...</td>\n",
       "      <td>...</td>\n",
       "      <td>...</td>\n",
       "      <td>...</td>\n",
       "      <td>...</td>\n",
       "      <td>...</td>\n",
       "      <td>...</td>\n",
       "      <td>...</td>\n",
       "      <td>...</td>\n",
       "      <td>...</td>\n",
       "      <td>...</td>\n",
       "      <td>...</td>\n",
       "      <td>...</td>\n",
       "      <td>...</td>\n",
       "    </tr>\n",
       "    <tr>\n",
       "      <th>564</th>\n",
       "      <td>21.56</td>\n",
       "      <td>22.39</td>\n",
       "      <td>142.00</td>\n",
       "      <td>1479.0</td>\n",
       "      <td>0.111000</td>\n",
       "      <td>0.115900</td>\n",
       "      <td>0.243900</td>\n",
       "      <td>0.13890</td>\n",
       "      <td>0.1726</td>\n",
       "      <td>0.056230</td>\n",
       "      <td>...</td>\n",
       "      <td>26.40</td>\n",
       "      <td>166.10</td>\n",
       "      <td>2027.0</td>\n",
       "      <td>0.141000</td>\n",
       "      <td>0.211300</td>\n",
       "      <td>0.410700</td>\n",
       "      <td>0.2216</td>\n",
       "      <td>0.206000</td>\n",
       "      <td>0.07115</td>\n",
       "      <td>0</td>\n",
       "    </tr>\n",
       "    <tr>\n",
       "      <th>565</th>\n",
       "      <td>20.13</td>\n",
       "      <td>28.25</td>\n",
       "      <td>131.20</td>\n",
       "      <td>1261.0</td>\n",
       "      <td>0.097800</td>\n",
       "      <td>0.103400</td>\n",
       "      <td>0.144000</td>\n",
       "      <td>0.09791</td>\n",
       "      <td>0.1752</td>\n",
       "      <td>0.055330</td>\n",
       "      <td>...</td>\n",
       "      <td>38.25</td>\n",
       "      <td>155.00</td>\n",
       "      <td>1731.0</td>\n",
       "      <td>0.116600</td>\n",
       "      <td>0.192200</td>\n",
       "      <td>0.321500</td>\n",
       "      <td>0.1628</td>\n",
       "      <td>0.257200</td>\n",
       "      <td>0.06637</td>\n",
       "      <td>0</td>\n",
       "    </tr>\n",
       "    <tr>\n",
       "      <th>566</th>\n",
       "      <td>16.60</td>\n",
       "      <td>28.08</td>\n",
       "      <td>108.30</td>\n",
       "      <td>858.1</td>\n",
       "      <td>0.084550</td>\n",
       "      <td>0.102300</td>\n",
       "      <td>0.092510</td>\n",
       "      <td>0.05302</td>\n",
       "      <td>0.1590</td>\n",
       "      <td>0.056480</td>\n",
       "      <td>...</td>\n",
       "      <td>34.12</td>\n",
       "      <td>126.70</td>\n",
       "      <td>1124.0</td>\n",
       "      <td>0.113900</td>\n",
       "      <td>0.309400</td>\n",
       "      <td>0.340300</td>\n",
       "      <td>0.1418</td>\n",
       "      <td>0.221800</td>\n",
       "      <td>0.07820</td>\n",
       "      <td>0</td>\n",
       "    </tr>\n",
       "    <tr>\n",
       "      <th>567</th>\n",
       "      <td>20.60</td>\n",
       "      <td>29.33</td>\n",
       "      <td>140.10</td>\n",
       "      <td>1265.0</td>\n",
       "      <td>0.117800</td>\n",
       "      <td>0.262779</td>\n",
       "      <td>0.327959</td>\n",
       "      <td>0.15200</td>\n",
       "      <td>0.2397</td>\n",
       "      <td>0.070160</td>\n",
       "      <td>...</td>\n",
       "      <td>39.42</td>\n",
       "      <td>184.60</td>\n",
       "      <td>1821.0</td>\n",
       "      <td>0.165000</td>\n",
       "      <td>0.726275</td>\n",
       "      <td>0.898061</td>\n",
       "      <td>0.2650</td>\n",
       "      <td>0.408700</td>\n",
       "      <td>0.12400</td>\n",
       "      <td>0</td>\n",
       "    </tr>\n",
       "    <tr>\n",
       "      <th>568</th>\n",
       "      <td>7.76</td>\n",
       "      <td>24.54</td>\n",
       "      <td>47.92</td>\n",
       "      <td>181.0</td>\n",
       "      <td>0.054168</td>\n",
       "      <td>0.043620</td>\n",
       "      <td>0.000000</td>\n",
       "      <td>0.00000</td>\n",
       "      <td>0.1587</td>\n",
       "      <td>0.058840</td>\n",
       "      <td>...</td>\n",
       "      <td>30.37</td>\n",
       "      <td>59.16</td>\n",
       "      <td>268.6</td>\n",
       "      <td>0.089960</td>\n",
       "      <td>0.064440</td>\n",
       "      <td>0.000000</td>\n",
       "      <td>0.0000</td>\n",
       "      <td>0.287100</td>\n",
       "      <td>0.07039</td>\n",
       "      <td>1</td>\n",
       "    </tr>\n",
       "  </tbody>\n",
       "</table>\n",
       "<p>569 rows × 31 columns</p>\n",
       "</div>"
      ],
      "text/plain": [
       "     radius_mean  texture_mean  perimeter_mean  area_mean  smoothness_mean  \\\n",
       "0          17.99         10.38          122.80     1001.0         0.118400   \n",
       "1          20.57         17.77          132.90     1326.0         0.084740   \n",
       "2          19.69         21.25          130.00     1203.0         0.109600   \n",
       "3          11.42         20.38           77.58      386.1         0.138553   \n",
       "4          20.29         14.34          135.10     1297.0         0.100300   \n",
       "..           ...           ...             ...        ...              ...   \n",
       "564        21.56         22.39          142.00     1479.0         0.111000   \n",
       "565        20.13         28.25          131.20     1261.0         0.097800   \n",
       "566        16.60         28.08          108.30      858.1         0.084550   \n",
       "567        20.60         29.33          140.10     1265.0         0.117800   \n",
       "568         7.76         24.54           47.92      181.0         0.054168   \n",
       "\n",
       "     compactness_mean  concavity_mean  concave points_mean  symmetry_mean  \\\n",
       "0            0.262779        0.300100              0.14710         0.2419   \n",
       "1            0.078640        0.086900              0.07017         0.1812   \n",
       "2            0.159900        0.197400              0.12790         0.2069   \n",
       "3            0.262779        0.241400              0.10520         0.2597   \n",
       "4            0.132800        0.198000              0.10430         0.1809   \n",
       "..                ...             ...                  ...            ...   \n",
       "564          0.115900        0.243900              0.13890         0.1726   \n",
       "565          0.103400        0.144000              0.09791         0.1752   \n",
       "566          0.102300        0.092510              0.05302         0.1590   \n",
       "567          0.262779        0.327959              0.15200         0.2397   \n",
       "568          0.043620        0.000000              0.00000         0.1587   \n",
       "\n",
       "     fractal_dimension_mean  ...  texture_worst  perimeter_worst  area_worst  \\\n",
       "0                  0.078710  ...          17.33           184.60      2019.0   \n",
       "1                  0.056670  ...          23.41           158.80      1956.0   \n",
       "2                  0.059990  ...          25.53           152.50      1709.0   \n",
       "3                  0.083979  ...          26.50            98.87       567.7   \n",
       "4                  0.058830  ...          16.67           152.20      1575.0   \n",
       "..                      ...  ...            ...              ...         ...   \n",
       "564                0.056230  ...          26.40           166.10      2027.0   \n",
       "565                0.055330  ...          38.25           155.00      1731.0   \n",
       "566                0.056480  ...          34.12           126.70      1124.0   \n",
       "567                0.070160  ...          39.42           184.60      1821.0   \n",
       "568                0.058840  ...          30.37            59.16       268.6   \n",
       "\n",
       "     smoothness_worst  compactness_worst  concavity_worst  \\\n",
       "0            0.162200           0.665600         0.711900   \n",
       "1            0.123800           0.186600         0.241600   \n",
       "2            0.144400           0.424500         0.450400   \n",
       "3            0.200866           0.726275         0.686900   \n",
       "4            0.137400           0.205000         0.400000   \n",
       "..                ...                ...              ...   \n",
       "564          0.141000           0.211300         0.410700   \n",
       "565          0.116600           0.192200         0.321500   \n",
       "566          0.113900           0.309400         0.340300   \n",
       "567          0.165000           0.726275         0.898061   \n",
       "568          0.089960           0.064440         0.000000   \n",
       "\n",
       "     concave points_worst  symmetry_worst  fractal_dimension_worst  diagnosis  \n",
       "0                  0.2654        0.460100                  0.11890          0  \n",
       "1                  0.1860        0.275000                  0.08902          0  \n",
       "2                  0.2430        0.361300                  0.08758          0  \n",
       "3                  0.2575        0.475678                  0.13813          0  \n",
       "4                  0.1625        0.236400                  0.07678          0  \n",
       "..                    ...             ...                      ...        ...  \n",
       "564                0.2216        0.206000                  0.07115          0  \n",
       "565                0.1628        0.257200                  0.06637          0  \n",
       "566                0.1418        0.221800                  0.07820          0  \n",
       "567                0.2650        0.408700                  0.12400          0  \n",
       "568                0.0000        0.287100                  0.07039          1  \n",
       "\n",
       "[569 rows x 31 columns]"
      ]
     },
     "execution_count": 52,
     "metadata": {},
     "output_type": "execute_result"
    }
   ],
   "source": [
    "df"
   ]
  },
  {
   "cell_type": "code",
   "execution_count": 51,
   "id": "f4475a2a",
   "metadata": {},
   "outputs": [],
   "source": [
    "df.to_csv(r'C:\\Users\\antar\\PycharmProjects\\HealthCareSystem\\breast cancer.csv')"
   ]
  },
  {
   "cell_type": "code",
   "execution_count": null,
   "id": "5fc72695",
   "metadata": {},
   "outputs": [],
   "source": []
  }
 ],
 "metadata": {
  "kernelspec": {
   "display_name": "Python 3",
   "language": "python",
   "name": "python3"
  },
  "language_info": {
   "codemirror_mode": {
    "name": "ipython",
    "version": 3
   },
   "file_extension": ".py",
   "mimetype": "text/x-python",
   "name": "python",
   "nbconvert_exporter": "python",
   "pygments_lexer": "ipython3",
   "version": "3.9.7"
  }
 },
 "nbformat": 4,
 "nbformat_minor": 5
}
